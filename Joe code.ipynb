{
 "cells": [
  {
   "cell_type": "raw",
   "id": "6a96a1be-39c1-4037-84d1-5378c9e92de2",
   "metadata": {},
   "source": [
    "Person object parameters:\n",
    "\n",
    "Joes:\n",
    "has a state: Susceptible, Infected, Rocovered\n",
    "has number of days sick\n",
    "chance of being sick\n",
    "\n"
   ]
  },
  {
   "cell_type": "code",
   "execution_count": null,
   "id": "e9cfcc7b-9ed4-4047-92df-dbbf8ecc78d1",
   "metadata": {},
   "outputs": [],
   "source": [
    "import numpy as np\n",
    "import random\n",
    "\n",
    "class Person(object):\n",
    "    def __init__(self):\n",
    "        self.status = \"Susceptible\"\n",
    "        self.days_sick = 0\n",
    "        self.sickness_rate = 10\n",
    "        \n",
    "    def infect(self, number_of_days_sick):\n",
    "        self.status = \"Infected\"\n",
    "        self.days_sick = number_of_days_sick\n",
    "    \n",
    "    def recover(self):\n",
    "        self.status = \"Recovered\"\n",
    "        self.days_sick = 0\n",
    "    \n",
    "    def update(self):\n",
    "        if(self.status = \"Susceptible\"):\n",
    "            self.roll_for_infection()\n",
    "        elif (self.status = \"Infected\")\n",
    "            self.days_sick -= 1\n",
    "            if (self.days_sick < 0):\n",
    "                self.recover()\n",
    "            \n",
    "    def roll_for_infection(self):\n",
    "        is_sick = (random.randint(1,100) <= sickness_rate)\n",
    "        if (is_sick):\n",
    "            self.infect(5)\n",
    "    \n",
    "\n",
    "\n",
    "Joe = Person()\n",
    "Jane = Person()\n",
    "Jane.sickness_rate = 20\n",
    "day = 0\n",
    "\n",
    "while(Joe.status != \"Recovered\" and Jane.status != \"Recovered\"):\n",
    "    day += 1\n",
    "    \n",
    "#      if (Joe.status != \"Infected\"):\n",
    "#         chance_of_getting_sick = random.randint(1,100) #roll the die\n",
    "#         if(chance_of_getting_sick < Joe.sickness_rate): #did Joe get sick\n",
    "#             Joe.infect(5)\n",
    "\n",
    "#     elif (Joe.status == \"Infected\"):\n",
    "#          Joe.update()\n",
    "    \n",
    "    Joe.update()\n",
    "    \n",
    "    if (Joe.status = \"Infected\" or Jane.status = \"Recovered\"):\n",
    "        Jane.update()\n",
    "        \n",
    "    print(\"Joe is\", Joe.status, \"day:\", day)\n",
    "    print(\"Jane is\", Jane.status, \"day:\", day)\n",
    "    \n",
    "    #my condiiton didn't happen, let's return\n",
    "    #if Joe is recovered and Jane is still susceptible, the condtitions for our program weren't met\n",
    "    #run it again\n",
    "    \n",
    "    if (Joe.status == \"Recovered\" and Jane.status == \"Susceptible\"):\n",
    "        Joe.status = \"Susceptible\"\n",
    "        day = 1\n",
    "        print(\"-------- reset ---------\")"
   ]
  },
  {
   "cell_type": "markdown",
   "id": "defb5819-1c9e-4c04-94e3-a53567bce6d4",
   "metadata": {},
   "source": [
    "We're going to create a population of 1000 Persons"
   ]
  },
  {
   "cell_type": "code",
   "execution_count": null,
   "id": "6050fa86-d2aa-4a1f-9c7f-1d86cf15521d",
   "metadata": {},
   "outputs": [],
   "source": [
    "my_population = []\n",
    "\n",
    "for i in range(0,1000):\n",
    "    generic_dude = Person()\n",
    "    my_population.append(generic_dude)\n",
    "    "
   ]
  }
 ],
 "metadata": {
  "IMAGE_NAME": "taccsciapps/ds-nb-img:base-0.1.0",
  "UUID": "c25897ba-e6a4-11ec-beb6-eabbaf714f70",
  "kernelspec": {
   "display_name": "Python 3 (ipykernel)",
   "language": "python",
   "name": "python3"
  },
  "language_info": {
   "codemirror_mode": {
    "name": "ipython",
    "version": 3
   },
   "file_extension": ".py",
   "mimetype": "text/x-python",
   "name": "python",
   "nbconvert_exporter": "python",
   "pygments_lexer": "ipython3",
   "version": "3.9.10"
  }
 },
 "nbformat": 4,
 "nbformat_minor": 5
}
